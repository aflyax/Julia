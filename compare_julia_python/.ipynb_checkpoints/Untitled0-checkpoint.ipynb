{
 "metadata": {
  "name": "",
  "signature": "sha256:dae6796723a23503dc8e2c0f2b88d86d7bb02c32b6362585122758e65e211f2e"
 },
 "nbformat": 3,
 "nbformat_minor": 0,
 "worksheets": []
}