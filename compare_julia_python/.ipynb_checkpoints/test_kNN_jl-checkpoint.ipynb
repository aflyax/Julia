{
 "metadata": {
  "language": "Julia",
  "name": "",
  "signature": "sha256:2308947251d34f1bf0f94d734a9040a0b809f0858a5a0b64ff1ce4f0bcbfbf72"
 },
 "nbformat": 3,
 "nbformat_minor": 0,
 "worksheets": [
  {
   "cells": [
    {
     "cell_type": "code",
     "collapsed": false,
     "input": [
      "using DataFrames, Distances, Gadfly\n",
      "\n",
      "function normalize(input_df::DataFrame, cols::Array{Int})\n",
      "    norm_df = deepcopy(input_df)\n",
      "    for i in cols\n",
      "        norm_df[i] = (input_df[i] - minimum(input_df[i])) / (maximum(input_df[i]) - minimum(input_df[i]))\n",
      "    end\n",
      "    norm_df\n",
      "end\n",
      "\n",
      "# import data\n",
      "\n",
      "dating_df = readtable(\"datingTestSet2.txt\", separator='\\t', header=false);\n",
      "names!(dating_df, [:miles, :games, :ice_cream, :opinion])\n",
      "head(dating_df)\n",
      "\n",
      "norm_df = normalize(dating_df, [1:3]);\n",
      "head(norm_df)"
     ],
     "language": "python",
     "metadata": {},
     "outputs": [
      {
       "html": [
        "<table class=\"data-frame\"><tr><th></th><th>miles</th><th>games</th><th>ice_cream</th><th>opinion</th></tr><tr><th>1</th><td>0.44832535360950115</td><td>0.39805139251704247</td><td>0.562333528687216</td><td>3</td></tr><tr><th>2</th><td>0.15873259342850568</td><td>0.3419546659888891</td><td>0.9872441587123406</td><td>2</td></tr><tr><th>3</th><td>0.2854294260076912</td><td>0.06892523280719681</td><td>0.47449628503016766</td><td>1</td></tr><tr><th>4</th><td>0.8232007274878661</td><td>0.6284800736390028</td><td>0.2524892865215854</td><td>1</td></tr><tr><th>5</th><td>0.4201023303715228</td><td>0.07982026591745278</td><td>0.07857829588853851</td><td>1</td></tr><tr><th>6</th><td>0.7997217139789423</td><td>0.4848018932137898</td><td>0.608960546188209</td><td>1</td></tr></table>"
       ],
       "metadata": {},
       "output_type": "pyout",
       "prompt_number": 1,
       "text": [
        "6x4 DataFrame\n",
        "| Row | miles    | games     | ice_cream | opinion |\n",
        "|-----|----------|-----------|-----------|---------|\n",
        "| 1   | 0.448325 | 0.398051  | 0.562334  | 3       |\n",
        "| 2   | 0.158733 | 0.341955  | 0.987244  | 2       |\n",
        "| 3   | 0.285429 | 0.0689252 | 0.474496  | 1       |\n",
        "| 4   | 0.823201 | 0.62848   | 0.252489  | 1       |\n",
        "| 5   | 0.420102 | 0.0798203 | 0.0785783 | 1       |\n",
        "| 6   | 0.799722 | 0.484802  | 0.608961  | 1       |"
       ]
      }
     ],
     "prompt_number": 1
    },
    {
     "cell_type": "code",
     "collapsed": false,
     "input": [
      "function find_kNN(input_array::Array{Float64,1}, set_array::Array{Float64,2}, labels::Array; k=3, prob=false)    \n",
      "    dist = Array(Float64,0)\n",
      "        \n",
      "#     for i in 1:size(set_array, 1)\n",
      "#         d = 0.0\n",
      "#         for j in 1:length(input_array)\n",
      "#             z = set_array[i,j] - input_array[j]\n",
      "#             d += z*z\n",
      "#         end\n",
      "#         dist[i] = sqrt(d)\n",
      "#     end\n",
      "    \n",
      "    dist = colwise(Euclidean(), set_array', input_array)\n",
      "\n",
      "    d = Dict{Int,Int}()\n",
      "    for i in labels[sortperm(dist)][1:k]\n",
      "        d[i] = get(d, i, 0) + 1\n",
      "    end\n",
      "    \n",
      "    prob || return collect(keys(d))[indmax(collect(values(d)))]\n",
      "    \n",
      "    d_prob = Dict{Any, Float64}()\n",
      "    [ d_prob[i] = d[i]/sum(collect(values(d))) for i in keys(d) ]\n",
      "    return d_prob\n",
      "end\n",
      "\n",
      "function mass_kNN(test_array::Array{Float64,2}, train_array::Array{Float64,2}, test_labels::Array{Int64,1}, \n",
      "    train_labels::Array{Int64,1}, k::Int64)\n",
      "    \n",
      "    count_correct = 0\n",
      "    for i in 1:size(test_array,1)\n",
      "        kNN_label = find_kNN(test_array[i,:][:], train_array, train_labels, k = k)\n",
      "        kNN_label == test_labels[i] ? count_correct += 1 : \"pass\";\n",
      "    end    \n",
      "    return count_correct / size(test_array, 1)\n",
      "end\n",
      "\n",
      "function plot_probs(input_array::Array{Real,2}, test_portion::Float64, cols::Array{Int64,1}, num_trials::Int64, k::Int64)\n",
      "    success_rate = Array(Float64, 0)\n",
      "    \n",
      "    data = convert(Array{Float64,2}, input_array[:,cols])\n",
      "    labels = convert(Array{Int64,1}, input_array[:,cols[end]+1])\n",
      "    \n",
      "    for i in 1:num_trials\n",
      "        n = size(input_array,1)\n",
      "        is_train = shuffle([1:n] .> floor(n * test_portion))\n",
      "        train_array, test_array = data[is_train,:], data[~is_train,:]\n",
      "        train_labels, test_labels = labels[is_train], labels[~is_train]\n",
      "        \n",
      "        print(\"*\")\n",
      "        push!(success_rate, mass_kNN(test_array, train_array, test_labels, train_labels, k))\n",
      "    end\n",
      "    \n",
      "    println(\"\")\n",
      "    \n",
      "#     plot(x=[1:num_trials], y=success_rate, Geom.line, Geom.point)\n",
      "end\n",
      "\n",
      "norm_array = array(norm_df);\n",
      "@time plot_probs(norm_array, 0.25, [1:3], 10, 3)"
     ],
     "language": "python",
     "metadata": {},
     "outputs": [
      {
       "output_type": "stream",
       "stream": "stdout",
       "text": [
        "*"
       ]
      },
      {
       "ename": "LoadError",
       "evalue": "BoundsError()\nwhile loading In[2], in expression starting on line 56",
       "output_type": "pyerr",
       "traceback": [
        "BoundsError()\nwhile loading In[2], in expression starting on line 56",
        "",
        " in find_kNN at In[2]:10",
        " in mass_kNN at In[2]:30",
        " in plot_probs at In[2]:49"
       ]
      }
     ],
     "prompt_number": 2
    }
   ],
   "metadata": {}
  }
 ]
}