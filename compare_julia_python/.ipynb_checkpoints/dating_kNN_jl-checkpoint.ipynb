{
 "metadata": {
  "language": "Julia",
  "name": "",
  "signature": "sha256:ab35034adcd025964cf2f2053e700e4a84ffb266bc7dc5c0478c572604185e47"
 },
 "nbformat": 3,
 "nbformat_minor": 0,
 "worksheets": [
  {
   "cells": [
    {
     "cell_type": "code",
     "collapsed": false,
     "input": [
      "using DataFrames, Distances, Gadfly\n",
      "\n",
      "function normalize(input_df::DataFrame, cols::Array{Int})\n",
      "    norm_df = deepcopy(input_df)\n",
      "    for i in cols\n",
      "        norm_df[i] = (input_df[i] - minimum(input_df[i])) / (maximum(input_df[i]) - minimum(input_df[i]))\n",
      "    end\n",
      "    norm_df\n",
      "end\n",
      "\n",
      "# import data\n",
      "\n",
      "dating_df = readtable(\"datingTestSet2.txt\", separator='\\t', header=false);\n",
      "names!(dating_df, [:miles, :games, :ice_cream, :opinion])\n",
      "head(dating_df)\n",
      "\n",
      "norm_df = normalize(dating_df, [1:3]);\n",
      "head(norm_df)"
     ],
     "language": "python",
     "metadata": {},
     "outputs": [
      {
       "html": [
        "<table class=\"data-frame\"><tr><th></th><th>miles</th><th>games</th><th>ice_cream</th><th>opinion</th></tr><tr><th>1</th><td>0.44832535360950115</td><td>0.39805139251704247</td><td>0.562333528687216</td><td>3</td></tr><tr><th>2</th><td>0.15873259342850568</td><td>0.3419546659888891</td><td>0.9872441587123406</td><td>2</td></tr><tr><th>3</th><td>0.2854294260076912</td><td>0.06892523280719681</td><td>0.47449628503016766</td><td>1</td></tr><tr><th>4</th><td>0.8232007274878661</td><td>0.6284800736390028</td><td>0.2524892865215854</td><td>1</td></tr><tr><th>5</th><td>0.4201023303715228</td><td>0.07982026591745278</td><td>0.07857829588853851</td><td>1</td></tr><tr><th>6</th><td>0.7997217139789423</td><td>0.4848018932137898</td><td>0.608960546188209</td><td>1</td></tr></table>"
       ],
       "metadata": {},
       "output_type": "pyout",
       "prompt_number": 1,
       "text": [
        "6x4 DataFrame\n",
        "| Row | miles    | games     | ice_cream | opinion |\n",
        "|-----|----------|-----------|-----------|---------|\n",
        "| 1   | 0.448325 | 0.398051  | 0.562334  | 3       |\n",
        "| 2   | 0.158733 | 0.341955  | 0.987244  | 2       |\n",
        "| 3   | 0.285429 | 0.0689252 | 0.474496  | 1       |\n",
        "| 4   | 0.823201 | 0.62848   | 0.252489  | 1       |\n",
        "| 5   | 0.420102 | 0.0798203 | 0.0785783 | 1       |\n",
        "| 6   | 0.799722 | 0.484802  | 0.608961  | 1       |"
       ]
      }
     ],
     "prompt_number": 1
    },
    {
     "cell_type": "code",
     "collapsed": false,
     "input": [
      "function find_kNN(input_df::DataFrame, set_df::DataFrame, labels::DataArray; k=3, prob=false)    \n",
      "    dist = Array(Float64,0)\n",
      "    [ push!(dist, euclidean(DataFrames.columns(set_df[i, :]), DataFrames.columns(input_df))[1]) \n",
      "        for i in 1:size(set_df, 1) ]\n",
      "    \n",
      "    d = Dict{Int,Int}()\n",
      "    [ d[i] = get(d, i, 0) + 1 for i in labels[sortperm(dist)][1:k] ]\n",
      "    \n",
      "    prob || return collect(keys(d))[indmax(collect(values(d)))]\n",
      "    \n",
      "    d_prob = Dict{Any, Float64}()\n",
      "    [ d_prob[i] = d[i]/sum(collect(values(d))) for i in keys(d) ]\n",
      "    return d_prob\n",
      "end\n",
      "\n",
      "function find_kNN(input_array::Array{Float64,1}, set_array::Array{Float64,2}, labels::Array; k=3, prob=false)    \n",
      "    dist = Array(Float64,0)\n",
      "        \n",
      "    [ push!(dist, euclidean(set_array[i,:][:], input_array)) for i in 1:size(set_array, 1) ]\n",
      "    \n",
      "    d = Dict{Int,Int}()\n",
      "    [ d[i] = get(d, i, 0) + 1 for i in labels[sortperm(dist)][1:k] ]\n",
      "    \n",
      "    prob || return collect(keys(d))[indmax(collect(values(d)))]\n",
      "    \n",
      "    d_prob = Dict{Any, Float64}()\n",
      "    [ d_prob[i] = d[i]/sum(collect(values(d))) for i in keys(d) ]\n",
      "    return d_prob\n",
      "end\n",
      "\n",
      "function find_kNN(input_array::Array{Real,1}, set_array::Array{Real,2}, labels::Array; k=3, prob=false)    \n",
      "    dist = Array(Float64,0)\n",
      "        \n",
      "    [ push!(dist, euclidean(set_array[i,:][:], input_array)) for i in 1:size(set_array, 1) ]\n",
      "    \n",
      "    d = Dict{Int,Int}()\n",
      "    [ d[i] = get(d, i, 0) + 1 for i in labels[sortperm(dist)][1:k] ]\n",
      "    \n",
      "    prob || return collect(keys(d))[indmax(collect(values(d)))]\n",
      "    \n",
      "    d_prob = Dict{Any, Float64}()\n",
      "    [ d_prob[i] = d[i]/sum(collect(values(d))) for i in keys(d) ]\n",
      "    return d_prob\n",
      "end\n",
      "\n",
      "# find_kNN(::Array{Real,1}, ::Array{Float64,2}, ::Float64)\n",
      "\n",
      "set_array = array(norm_df[:,[1:3]])\n",
      "input_array = array(norm_df[18,[1:3]])[:]\n",
      "labels = array(norm_df[4][:])\n",
      "\n",
      "# find_kNN(norm_df[18,[1:3]], norm_df[:, [1:3]], norm_df[4], k=97, prob=true)\n",
      "find_kNN(input_array, set_array, labels, prob=true, k=99)\n",
      "\n",
      "# input_array"
     ],
     "language": "python",
     "metadata": {},
     "outputs": [
      {
       "metadata": {},
       "output_type": "pyout",
       "prompt_number": 6,
       "text": [
        "Dict{Any,Float64} with 2 entries:\n",
        "  3 => 0.2222222222222222\n",
        "  1 => 0.7777777777777778"
       ]
      }
     ],
     "prompt_number": 6
    },
    {
     "cell_type": "code",
     "collapsed": false,
     "input": [
      "function mass_kNN(train_df::DataFrame, test_df::DataFrame, cols::Array{Int}, k)\n",
      "    label_ix = cols[end]+1\n",
      "    count_correct = 0\n",
      "    for i in 1:size(train_df,1)\n",
      "        kNN_label = find_kNN(train_df[i,cols], test_df[:, cols], test_df[label_ix], k = k)\n",
      "        real_label = train_df[i, label_ix]\n",
      "        \n",
      "        kNN_label == real_label ? count_correct += 1 : \"pass\";\n",
      "    end\n",
      "    \n",
      "    return count_correct / size(train_df, 1)\n",
      "end\n",
      "\n",
      "function mass_kNN(train_array::Array{Float64, 2}, test_array::Array{Float64,2}, cols::Array{Int}, k)\n",
      "    label_ix = cols[end]+1\n",
      "    count_correct = 0\n",
      "    for i in 1:size(train_array,1)\n",
      "        kNN_label = find_kNN(train_array[i,cols], test_array[:, cols], test_array[label_ix], k = k)\n",
      "        real_label = train_array[i, label_ix]\n",
      "        \n",
      "        kNN_label == real_label ? count_correct += 1 : \"pass\";\n",
      "    end\n",
      "    \n",
      "    return count_correct / size(train_df, 1)\n",
      "end\n",
      "\n",
      "\n",
      "function mass_kNN(test_array::Array{Real,2}, train_array::Array{Real,2}, cols::Array{Int64,1}, k::Int64)\n",
      "    label_ix = cols[end]+1\n",
      "    count_correct = 0\n",
      "    for i in 1:size(test_array,1)\n",
      "        kNN_label = find_kNN(test_array[i,cols][:], train_array[:, cols], train_array[:,label_ix], k = k)\n",
      "        real_label = test_array[i, label_ix]\n",
      "\n",
      "        kNN_label == real_label ? count_correct += 1 : \"pass\";\n",
      "    end\n",
      "    \n",
      "#     print(\"correct: \", count_correct)\n",
      "    \n",
      "    return count_correct / size(test_array, 1)\n",
      "end\n",
      "\n",
      "function mass_kNN(test_array::Array{Float64,2}, train_array::Array{Float64,2}, test_labels::Array{Int64,1}, \n",
      "    train_labels::Array{Int64,1}, k::Int64)\n",
      "    \n",
      "#     mass_kNN(::Array{Float64,2}, ::Array{Float64,2}, ::Array{Int64,1}, ::Array{Float64,1}, ::Int64)\n",
      "    \n",
      "    label_ix = cols[end]+1\n",
      "    count_correct = 0\n",
      "    for i in 1:size(test_array,1)\n",
      "        kNN_label = find_kNN(test_array[i,:][:], train_array, train_labels, k = k)\n",
      "        kNN_label == test_labels[i] ? count_correct += 1 : \"pass\";\n",
      "    end    \n",
      "    return count_correct / size(test_array, 1)\n",
      "end\n",
      "\n",
      "cols = [1:3]\n",
      "\n",
      "function foo()\n",
      "    test_array = array(norm_df[1:250,:])\n",
      "    train_array = array(norm_df[251:end,:])\n",
      "    mass_kNN(test_array, train_array, [1:3], 11)\n",
      "end\n",
      "    \n",
      "function bar()\n",
      "    test_array = array(norm_df[1:250,cols])\n",
      "    train_array = array(norm_df[251:end,cols])\n",
      "    test_labels = array(norm_df[1:250,4])\n",
      "    train_labels = array(norm_df[251:end,4])\n",
      "\n",
      "    mass_kNN(test_array, train_array, test_labels, train_labels, 11)\n",
      "end\n",
      "\n",
      "@time println(foo())\n",
      "@time println(bar())"
     ],
     "language": "python",
     "metadata": {},
     "outputs": [
      {
       "output_type": "stream",
       "stream": "stdout",
       "text": [
        "0.936"
       ]
      },
      {
       "output_type": "stream",
       "stream": "stdout",
       "text": [
        "\n",
        "elapsed time: 0.207094024 seconds (81916276 bytes allocated, 20.25% gc time)\n",
        "0."
       ]
      },
      {
       "output_type": "stream",
       "stream": "stdout",
       "text": [
        "936\n",
        "elapsed time: 0.105694908 seconds (45564356 bytes allocated, 39.23% gc time)\n"
       ]
      }
     ],
     "prompt_number": 35
    },
    {
     "cell_type": "code",
     "collapsed": false,
     "input": [
      "function plot_probs(input_df::DataFrame, test_portion::Float64, cols::Array{Int64,1}, num_trials::Int64, k::Int64)\n",
      "    success_rate = Array(Float64, 0)\n",
      "    \n",
      "    for i in 1:num_trials\n",
      "        n = size(input_df,1)\n",
      "        is_train = shuffle([1:n] .> floor(n * test_portion))\n",
      "        train_df, test_df = input_df[is_train,:], input_df[~is_train,:]\n",
      "        \n",
      "#         print(\"*\")\n",
      "        push!(success_rate, mass_kNN(train_df, test_df, cols, k))\n",
      "    end\n",
      "    \n",
      "    df = DataFrame(x=1:num_trials, y=success_rate)\n",
      "    plot(df, x=\"x\", y=\"y\", Geom.line, Geom.point)\n",
      "end\n",
      "\n",
      "function plot_probs(input_array::Array{Real,2}, test_portion::Float64, cols::Array{Int64,1}, num_trials::Int64, k::Int64)\n",
      "    success_rate = Array(Float64, 0)\n",
      "    \n",
      "    lbl_ix = cols[end] + 1\n",
      "    \n",
      "    for i in 1:num_trials\n",
      "        n = size(input_array,1)\n",
      "        is_train = shuffle([1:n] .> floor(n * test_portion))\n",
      "        train_array, test_array = input_array[is_train,:], input_array[~is_train,:]\n",
      "        \n",
      "#         println(test_array)\n",
      "#         println(train_array)\n",
      "        \n",
      "        print(\"*\")\n",
      "        push!(success_rate, mass_kNN(convert(Array{Float64,2}, test_array[:,cols]), \n",
      "                                    convert(Array{Float64,2}, train_array[:,cols]),\n",
      "                                    convert(Array{Int64,1}, test_array[:,lbl_ix]), \n",
      "                                    convert(Array{Int64,1}, train_array[:,lbl_ix]), \n",
      "                                    k))\n",
      "    end\n",
      "    \n",
      "#     df = DataFrame(x=1:num_trials, y=success_rate)\n",
      "#     plot(x=[1:num_trials], y=success_rate, Geom.line, Geom.point)\n",
      "end\n",
      "\n",
      "\n",
      "kNN = [3]\n",
      "\n",
      "# @time plot_probs(norm_df, 0.25, [1:3], 10, 3)\n",
      "\n",
      "norm_array = array(norm_df);\n",
      "plot_probs(norm_array, 0.25, [1:3], 2, 3)"
     ],
     "language": "python",
     "metadata": {},
     "outputs": [
      {
       "output_type": "stream",
       "stream": "stdout",
       "text": [
        "*"
       ]
      },
      {
       "ename": "LoadError",
       "evalue": "`mass_kNN` has no method matching mass_kNN(::Array{Float64,2}, ::Array{Float64,2}, ::Array{Int64,1}, ::Array{Float64,1}, ::Int64)\nwhile loading In[54], in expression starting on line 48",
       "output_type": "pyerr",
       "traceback": [
        "`mass_kNN` has no method matching mass_kNN(::Array{Float64,2}, ::Array{Float64,2}, ::Array{Int64,1}, ::Array{Float64,1}, ::Int64)\nwhile loading In[54], in expression starting on line 48",
        "",
        " in plot_probs at In[54]:31"
       ]
      }
     ],
     "prompt_number": 54
    },
    {
     "cell_type": "code",
     "collapsed": false,
     "input": [
      "convert(Array{Float64,1}, norm_array[:,1])"
     ],
     "language": "python",
     "metadata": {},
     "outputs": [
      {
       "metadata": {},
       "output_type": "pyout",
       "prompt_number": 51,
       "text": [
        "1000-element Array{Float64,1}:\n",
        " 0.448325 \n",
        " 0.158733 \n",
        " 0.285429 \n",
        " 0.823201 \n",
        " 0.420102 \n",
        " 0.799722 \n",
        " 0.393851 \n",
        " 0.467455 \n",
        " 0.739507 \n",
        " 0.388757 \n",
        " 0.550459 \n",
        " 0.69325  \n",
        " 0.0610148\n",
        " \u22ee        \n",
        " 0.0510447\n",
        " 0.192631 \n",
        " 0.304033 \n",
        " 0.108115 \n",
        " 0.200859 \n",
        " 0.0414142\n",
        " 0.199292 \n",
        " 0.122106 \n",
        " 0.754287 \n",
        " 0.291159 \n",
        " 0.527111 \n",
        " 0.479408 "
       ]
      }
     ],
     "prompt_number": 51
    }
   ],
   "metadata": {}
  }
 ]
}