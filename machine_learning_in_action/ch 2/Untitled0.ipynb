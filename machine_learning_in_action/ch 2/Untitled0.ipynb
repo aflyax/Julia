{
 "metadata": {
  "language": "Julia",
  "name": "",
  "signature": "sha256:b0d14ea3452927a3f991022b80296b1171263b31171e376aa02528cb35f3798f"
 },
 "nbformat": 3,
 "nbformat_minor": 0,
 "worksheets": [
  {
   "cells": [
    {
     "cell_type": "code",
     "collapsed": false,
     "input": [
      "type StandardScalar\n",
      "    mean::Vector{Float64}\n",
      "    std::Vector{Float64}\n",
      "end"
     ],
     "language": "python",
     "metadata": {},
     "outputs": [],
     "prompt_number": 2
    },
    {
     "cell_type": "code",
     "collapsed": false,
     "input": [
      "s = StandardScalar(rand(10), rand(11));"
     ],
     "language": "python",
     "metadata": {},
     "outputs": [],
     "prompt_number": 7
    },
    {
     "cell_type": "code",
     "collapsed": false,
     "input": [
      "s.mean"
     ],
     "language": "python",
     "metadata": {},
     "outputs": [
      {
       "metadata": {},
       "output_type": "pyout",
       "prompt_number": 11,
       "text": [
        "10-element Array{Float64,1}:\n",
        " 0.156299 \n",
        " 0.155106 \n",
        " 0.809177 \n",
        " 0.978579 \n",
        " 0.932265 \n",
        " 0.26675  \n",
        " 0.533361 \n",
        " 0.98805  \n",
        " 0.285412 \n",
        " 0.0636704"
       ]
      }
     ],
     "prompt_number": 11
    },
    {
     "cell_type": "code",
     "collapsed": false,
     "input": [
      "s.std"
     ],
     "language": "python",
     "metadata": {},
     "outputs": [
      {
       "metadata": {},
       "output_type": "pyout",
       "prompt_number": 13,
       "text": [
        "11-element Array{Float64,1}:\n",
        " 0.83245 \n",
        " 0.240602\n",
        " 0.755089\n",
        " 0.571714\n",
        " 0.996563\n",
        " 0.138793\n",
        " 0.655243\n",
        " 0.386543\n",
        " 0.38067 \n",
        " 0.922913\n",
        " 0.941397"
       ]
      }
     ],
     "prompt_number": 13
    },
    {
     "cell_type": "code",
     "collapsed": false,
     "input": [
      "function StandardScalar()\n",
      "    StandardScalar(Array(Float64,0),Array(Float64,0))\n",
      "end"
     ],
     "language": "python",
     "metadata": {},
     "outputs": [
      {
       "metadata": {},
       "output_type": "pyout",
       "prompt_number": 15,
       "text": [
        "StandardScalar (constructor with 3 methods)"
       ]
      }
     ],
     "prompt_number": 15
    },
    {
     "cell_type": "code",
     "collapsed": false,
     "input": [
      "a = StandardScalar()"
     ],
     "language": "python",
     "metadata": {},
     "outputs": [
      {
       "metadata": {},
       "output_type": "pyout",
       "prompt_number": 18,
       "text": [
        "StandardScalar([],[])"
       ]
      }
     ],
     "prompt_number": 18
    },
    {
     "cell_type": "code",
     "collapsed": false,
     "input": [
      "a.mean = [10.]\n",
      "a"
     ],
     "language": "python",
     "metadata": {},
     "outputs": [
      {
       "metadata": {},
       "output_type": "pyout",
       "prompt_number": 24,
       "text": [
        "StandardScalar([10.0],[])"
       ]
      }
     ],
     "prompt_number": 24
    },
    {
     "cell_type": "code",
     "collapsed": false,
     "input": [
      "s.mean = [10]"
     ],
     "language": "python",
     "metadata": {},
     "outputs": [
      {
       "metadata": {},
       "output_type": "pyout",
       "prompt_number": 26,
       "text": [
        "1-element Array{Float64,1}:\n",
        " 10.0"
       ]
      }
     ],
     "prompt_number": 26
    },
    {
     "cell_type": "code",
     "collapsed": false,
     "input": [
      "module rho\n",
      "export fluffi\n",
      "\n",
      "type fluffi\n",
      "    mean::Vector{Float64}\n",
      "    std::Vector{Float64}\n",
      "    fluff::Float64\n",
      "end\n",
      "end"
     ],
     "language": "python",
     "metadata": {},
     "outputs": [
      {
       "output_type": "stream",
       "stream": "stderr",
       "text": [
        "Warning: replacing module rho\n"
       ]
      }
     ],
     "prompt_number": 59
    },
    {
     "cell_type": "code",
     "collapsed": false,
     "input": [
      "using rho\n",
      "\n",
      "a = fluff(rand(10), rand(10))\n",
      "b = fluffi(rand(10), rand(10), 11.)"
     ],
     "language": "python",
     "metadata": {},
     "outputs": [
      {
       "metadata": {},
       "output_type": "pyout",
       "prompt_number": 61,
       "text": [
        "fluffi([0.441957,0.0730236,0.92196,0.539993,0.225049,0.48359,0.0219542,0.689651,0.0151175,0.459942],[0.656228,0.427574,0.340784,0.564834,0.434195,0.477731,0.713606,0.479468,0.809129,0.10198],11.0)"
       ]
      }
     ],
     "prompt_number": 61
    },
    {
     "cell_type": "code",
     "collapsed": false,
     "input": [
      "function + (f::fluffi, p::fluffi)\n",
      "    return (f.mean + f.std) * p.fluff\n",
      "end"
     ],
     "language": "python",
     "metadata": {},
     "outputs": [
      {
       "metadata": {},
       "output_type": "pyout",
       "prompt_number": 63,
       "text": [
        "+ (generic function with 119 methods)"
       ]
      }
     ],
     "prompt_number": 63
    },
    {
     "cell_type": "code",
     "collapsed": false,
     "input": [
      "a = fluffi(rand(5), rand(5), 1)\n",
      "b = fluffi(rand(5), rand(5), 10)\n"
     ],
     "language": "python",
     "metadata": {},
     "outputs": [
      {
       "metadata": {},
       "output_type": "pyout",
       "prompt_number": 66,
       "text": [
        "5-element Array{Float64,1}:\n",
        " 10.888  \n",
        " 13.6525 \n",
        "  5.41964\n",
        " 12.7142 \n",
        " 13.3943 "
       ]
      }
     ],
     "prompt_number": 66
    }
   ],
   "metadata": {}
  }
 ]
}